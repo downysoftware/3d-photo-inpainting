{
  "nbformat": 4,
  "nbformat_minor": 0,
  "metadata": {
    "colab": {
      "provenance": [],
      "collapsed_sections": []
    },
    "kernelspec": {
      "name": "python3",
      "display_name": "Python 3"
    },
    "accelerator": "GPU"
  },
  "cells": [
    {
      "cell_type": "markdown",
      "metadata": {
        "id": "IY-s3ZpHBeAU"
      },
      "source": [
        "**[CVPR 2020] 3D Photography using Context-aware Layered Depth Inpainting**\n",
        "\n",
        "See the [project website](https://shihmengli.github.io/3D-Photo-Inpainting/) and [Github](https://github.com/vt-vl-lab/3d-photo-inpainting) if you encounter any problems, or for additional information.\n",
        "\n",
        "Quality of life improvements by [Downy](http://www.twitter.com/tooltrackers).\n",
        "\n"
      ]
    },
    {
      "cell_type": "code",
      "metadata": {
        "id": "5o-EIMeaghU0",
        "cellView": "form"
      },
      "source": [
        "#@markdown Prepare environment\n",
        "\n",
        "!pip3 install torch==1.4.0+cu100 torchvision==0.5.0+cu100 -f https://download.pytorch.org/whl/torch_stable.html\n",
        "!pip3 install opencv-python==4.2.0.32\n",
        "!pip3 install vispy==0.6.4\n",
        "!pip3 install moviepy==1.0.2\n",
        "!pip3 install transforms3d==0.3.1\n",
        "!pip3 install networkx==2.3\n",
        "!sudo apt install sed"
      ],
      "execution_count": null,
      "outputs": []
    },
    {
      "cell_type": "code",
      "metadata": {
        "id": "cOFIBkWrBlNM",
        "cellView": "form"
      },
      "source": [
        "#@markdown Download script and pretrained model\n",
        "\n",
        "%cd /content/\n",
        "!git clone https://github.com/downysoftware/3d-photo-inpainting.git\n",
        "%cd 3d-photo-inpainting\n",
        "!sh download.sh"
      ],
      "execution_count": null,
      "outputs": []
    },
    {
      "cell_type": "code",
      "metadata": {
        "id": "S9TmdOBRDXcV",
        "cellView": "form"
      },
      "source": [
        "#@markdown Switch off off-screen rendering\n",
        "\n",
        "!sed -i 's/offscreen_rendering: True/offscreen_rendering: False/g' argument.yml\n"
      ],
      "execution_count": null,
      "outputs": []
    },
    {
      "cell_type": "markdown",
      "metadata": {
        "id": "cCN8L7GiDpZA"
      },
      "source": [
        "- **Upload `.jpg` files to `/content/3d-photo-inpainting-master/image/`**\n",
        "  - You can run this step multiple times to upload multiple `.jpg` files."
      ]
    },
    {
      "cell_type": "code",
      "metadata": {
        "id": "n-Kl6fo1oows",
        "cellView": "form"
      },
      "source": [
        "#@markdown Upload images\n",
        "\n",
        "%cd image\n",
        "from google.colab import files\n",
        "uploaded = files.upload()\n",
        "for fn in uploaded.keys():\n",
        "  print('User uploaded file \"{name}\" with length {length} bytes'.format(\n",
        "      name=fn, length=len(uploaded[fn])))\n",
        "%cd .."
      ],
      "execution_count": null,
      "outputs": []
    },
    {
      "cell_type": "code",
      "metadata": {
        "id": "KISrXgd-MhPv",
        "cellView": "form"
      },
      "source": [
        "#@markdown Or, copy images from Google Drive\n",
        "#You'll first need to upload all images you want to process to /image on your Google Drive.\n",
        "\n",
        "# 1. Mount your Google Drive.\n",
        "from google.colab import drive\n",
        "drive.mount('/content/drive')\n",
        "\n",
        "# 2. Move images over from Google Drive.\n",
        "!cp /content/drive/MyDrive/image/ -r /content/3d-photo-inpainting/"
      ],
      "execution_count": null,
      "outputs": []
    },
    {
      "cell_type": "markdown",
      "source": [
        "# **Execute the 3D Photo Inpainting**\n",
        "  - Note: The 3D photo generation process usually takes about 2-3 minutes or more depending on the available computing resources."
      ],
      "metadata": {
        "id": "AomHOL0qSLFt"
      }
    },
    {
      "cell_type": "code",
      "source": [
        "#@markdown Default execution\n",
        "\n",
        "#!python main.py --config argument.yml\n",
        "\n",
        "!python main.py --config argument-extreme-zoom.yml"
      ],
      "metadata": {
        "cellView": "form",
        "id": "3HJyJquWSWAb"
      },
      "execution_count": null,
      "outputs": []
    },
    {
      "cell_type": "code",
      "source": [
        "#@markdown Compress results.\n",
        "\n",
        "!zip -r /content/drive/MyDrive/image/inpainting-videos.zip /content/3d-photo-inpainting/video/"
      ],
      "metadata": {
        "cellView": "form",
        "id": "MCRZzBJbZDMH"
      },
      "execution_count": null,
      "outputs": []
    },
    {
      "cell_type": "markdown",
      "metadata": {
        "id": "wPvkMT0msIJB"
      },
      "source": [
        "- **The results are stored in the following directories**\n",
        "  - Corresponding depth map estimated by [MiDaS](https://github.com/intel-isl/MiDaS.git) \n",
        "      - E.g. ```/content/3d-photo-inpainting/depth/moon.npy```\n",
        "  - Inpainted 3D mesh\n",
        "      - E.g. ```/content/3d-photo-inpainting/mesh/moon.ply```\n",
        "  - Rendered videos with zoom-in motion\n",
        "      - E.g. ```/content/3d-photo-inpainting/video/moon_zoom-in.mp4```\n",
        "  - Rendered videos with swing motion\n",
        "      - E.g. ```/content/3d-photo-inpainting/video/moon_swing.mp4```\n",
        "  - Rendered videos with circle motion\n",
        "      - E.g. ```/content/3d-photo-inpainting/video/moon_circle.mp4```\n",
        "  \n",
        "    ![](https://drive.google.com/uc?id=1xBiZAeGfhsoAsG08N5UM8-f993p0G5HF)"
      ]
    }
  ]
}
